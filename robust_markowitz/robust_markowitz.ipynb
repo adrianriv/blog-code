{
 "cells": [
  {
   "cell_type": "code",
   "execution_count": 1,
   "metadata": {},
   "outputs": [],
   "source": [
    "import numpy as np\n",
    "import seaborn as sns\n",
    "import cvxpy as cp\n",
    "import matplotlib.pyplot as plt"
   ]
  },
  {
   "cell_type": "code",
   "execution_count": 2,
   "metadata": {},
   "outputs": [],
   "source": [
    "number_of_stocks = 100\n",
    "risk_parameter = 1/2."
   ]
  },
  {
   "cell_type": "code",
   "execution_count": 3,
   "metadata": {},
   "outputs": [],
   "source": [
    "def find_robust_markowitz_weights(nominal_returns, nominal_covariance_matrix, returns_radii, kappa, risk_parameter):\n",
    "    # Set ut the problem\n",
    "    volatilities = np.sqrt(np.diag(nominal_covariance_matrix))\n",
    "    n = len(nominal_returns)\n",
    "    weights = cp.Variable(n)\n",
    "    objective = cp.matmul(nominal_returns, weights)\\\n",
    "        - (cp.matmul(cp.abs(weights), returns_radii)) \\\n",
    "        - risk_parameter * cp.quad_form(weights, nominal_covariance_matrix)\\\n",
    "        - risk_parameter * kappa * cp.square(cp.matmul(volatilities, weights))\n",
    "    \n",
    "    constraints = [cp.sum(weights) == 1] # allow shorting\n",
    "    prob = cp.Problem(cp.Maximize(objective), constraints)\n",
    "\n",
    "    # Solving the problem\n",
    "    prob.solve()\n",
    "    return weights.value"
   ]
  },
  {
   "cell_type": "code",
   "execution_count": 4,
   "metadata": {},
   "outputs": [],
   "source": [
    "def get_bootstrapped_returns_and_covariances(return_samples, number_of_bootstrap_samples):\n",
    "    returns = []\n",
    "    covariances = []\n",
    "    for _ in range(number_of_bootstrap_samples):\n",
    "        indices = np.random.choice(range(len(return_samples)), size = len(return_samples), replace=True)\n",
    "        bootstrap_returns = return_samples[:, indices]\n",
    "        returns.append(bootstrap_returns.mean(axis=1))\n",
    "        covariances.append(np.cov(bootstrap_returns))\n",
    "    return returns, covariances"
   ]
  },
  {
   "cell_type": "code",
   "execution_count": 5,
   "metadata": {},
   "outputs": [],
   "source": [
    "def get_uncertainty_set_parameters(bootstrap_returns, bootstrap_covariances, estimated_covariance): \n",
    "    np_bootstrap_returns = np.array(bootstrap_returns)\n",
    "    np_bootstrap_covariances = np.array(bootstrap_covariances)\n",
    "\n",
    "    returns_max = np_bootstrap_returns.max(axis=0)\n",
    "    returns_min = np_bootstrap_returns.min(axis=0)\n",
    "    nominal_returns = 1/2. * (returns_max + returns_min)\n",
    "    returns_radii = 1/2. *(returns_max - nominal_returns)\n",
    "\n",
    "    std_deviations = np.sqrt(np.diag(estimated_covariance))\n",
    "    matrix_with_std_deviation_j = np.tile(std_deviations, (std_deviations.shape[0], 1))\n",
    "    matrix_with_std_deviation_i = matrix_with_std_deviation_j.T\n",
    "    inverse_sigma_ii_jj = 1 / (matrix_with_std_deviation_i * matrix_with_std_deviation_j)\n",
    "    kappas = np.abs((np_bootstrap_covariances - estimated_covariance) * inverse_sigma_ii_jj).max(axis=0)\n",
    "    kappa = kappas.max()\n",
    "\n",
    "    return nominal_returns, returns_radii, estimated_covariance, kappa\n"
   ]
  },
  {
   "cell_type": "code",
   "execution_count": 6,
   "metadata": {},
   "outputs": [],
   "source": [
    "\n",
    "def find_robust_markowitz_weights_with_given_number_of_observations(number_of_daily_observations, number_of_bootstrap_samples):\n",
    "    return_samples = .1 * np.random.randn(number_of_stocks, number_of_daily_observations) # .1 is so that all have sigma = .1\n",
    "    # estimated_returns = all_returns.mean(axis=1)\n",
    "    estimated_covariance = np.cov(return_samples)\n",
    "\n",
    "    bootstrap_returns, bootstrap_covariances = get_bootstrapped_returns_and_covariances(return_samples, number_of_bootstrap_samples)\n",
    "    \n",
    "    nominal_returns, returns_radii, estimated_covariance, kappa = get_uncertainty_set_parameters(bootstrap_returns, bootstrap_covariances, estimated_covariance)\n",
    "    \n",
    "    return find_robust_markowitz_weights(nominal_returns, estimated_covariance, returns_radii, kappa, risk_parameter)"
   ]
  },
  {
   "cell_type": "code",
   "execution_count": 9,
   "metadata": {},
   "outputs": [
    {
     "data": {
      "text/plain": [
       "Text(0, 0.5, 'Portolio Allocation')"
      ]
     },
     "execution_count": 9,
     "metadata": {},
     "output_type": "execute_result"
    },
    {
     "data": {
      "image/png": "[encoded data removed]",
      "text/plain": [
       "<Figure size 640x480 with 1 Axes>"
      ]
     },
     "metadata": {},
     "output_type": "display_data"
    }
   ],
   "source": [
    "robust_markowitz_portfolio_1_years = find_robust_markowitz_weights_with_given_number_of_observations(252 * 1, 5000)\n",
    "ax = sns.barplot(sorted(robust_markowitz_portfolio_1_years))\n",
    "ax.set_xticks(range(0, len(ax.get_xticklabels()) + 1, len(ax.get_xticklabels()) // 10 ))\n",
    "ax.set_xticklabels(range(0, 101, 10));\n",
    "plt.ylabel(\"Portolio Allocation\")"
   ]
  },
  {
   "cell_type": "code",
   "execution_count": 31,
   "metadata": {},
   "outputs": [
    {
     "data": {
      "text/plain": [
       "Text(0, 0.5, 'Portolio Allocation')"
      ]
     },
     "execution_count": 31,
     "metadata": {},
     "output_type": "execute_result"
    },
    {
     "data": {
      "image/png": "[encoded data removed]",
      "text/plain": [
       "<Figure size 640x480 with 1 Axes>"
      ]
     },
     "metadata": {},
     "output_type": "display_data"
    }
   ],
   "source": [
    "robust_markowitz_portfolio_10000_years = find_robust_markowitz_weights_with_given_number_of_observations(252 * 10000, 5000)\n",
    "ax = sns.barplot(sorted(robust_markowitz_portfolio_10000_years))\n",
    "ax.set_xticks(range(0, len(ax.get_xticklabels()) + 1, len(ax.get_xticklabels()) // 10 ))\n",
    "ax.set_xticklabels(range(0, 101, 10));\n",
    "plt.ylabel(\"Portolio Allocation\")"
   ]
  },
  {
   "cell_type": "code",
   "execution_count": 32,
   "metadata": {},
   "outputs": [
    {
     "ename": "",
     "evalue": "",
     "output_type": "error",
     "traceback": [
      "\u001b[1;31mThe Kernel crashed while executing code in the the current cell or a previous cell. Please review the code in the cell(s) to identify a possible cause of the failure. Click <a href='https://aka.ms/vscodeJupyterKernelCrash'>here</a> for more info. View Jupyter <a href='command:jupyter.viewOutput'>log</a> for further details."
     ]
    }
   ],
   "source": [
    "robust_markowitz_portfolio_10000_years = find_robust_markowitz_weights_with_given_number_of_observations(252 * 100000, 100)\n",
    "ax = sns.barplot(sorted(robust_markowitz_portfolio_10000_years))\n",
    "ax.set_xticks(range(0, len(ax.get_xticklabels()) + 1, len(ax.get_xticklabels()) // 10 ))\n",
    "ax.set_xticklabels(range(0, 101, 10));\n",
    "plt.ylabel(\"Portolio Allocation\")"
   ]
  },
  {
   "cell_type": "code",
   "execution_count": null,
   "metadata": {},
   "outputs": [],
   "source": []
  }
 ],
 "metadata": {
  "kernelspec": {
   "display_name": "blog-code",
   "language": "python",
   "name": "python3"
  },
  "language_info": {
   "codemirror_mode": {
    "name": "ipython",
    "version": 3
   },
   "file_extension": ".py",
   "mimetype": "text/x-python",
   "name": "python",
   "nbconvert_exporter": "python",
   "pygments_lexer": "ipython3",
   "version": "3.10.5"
  }
 },
 "nbformat": 4,
 "nbformat_minor": 2
}
